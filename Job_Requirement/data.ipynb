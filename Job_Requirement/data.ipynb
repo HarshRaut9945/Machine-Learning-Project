{
 "cells": [
  {
   "cell_type": "code",
   "execution_count": 39,
   "id": "cb9efafe",
   "metadata": {},
   "outputs": [],
   "source": [
    "import numpy as np\n",
    "import pandas as pd\n",
    "import matplotlib.pyplot as plt\n",
    "import seaborn as sns\n"
   ]
  },
  {
   "cell_type": "code",
   "execution_count": 40,
   "id": "8c8edad7",
   "metadata": {},
   "outputs": [],
   "source": [
    "df=pd.read_csv(r\"C:\\Users\\Lenovo\\OneDrive\\Documents\\Data set\\MLL\\archive\\Placement_Data_Full_Class.csv\")"
   ]
  },
  {
   "cell_type": "code",
   "execution_count": 41,
   "id": "e92ee005",
   "metadata": {},
   "outputs": [
    {
     "data": {
      "text/plain": [
       "(215, 15)"
      ]
     },
     "execution_count": 41,
     "metadata": {},
     "output_type": "execute_result"
    }
   ],
   "source": [
    "df.shape"
   ]
  },
  {
   "cell_type": "code",
   "execution_count": 42,
   "id": "3ff42621",
   "metadata": {},
   "outputs": [
    {
     "data": {
      "text/html": [
       "<div>\n",
       "<style scoped>\n",
       "    .dataframe tbody tr th:only-of-type {\n",
       "        vertical-align: middle;\n",
       "    }\n",
       "\n",
       "    .dataframe tbody tr th {\n",
       "        vertical-align: top;\n",
       "    }\n",
       "\n",
       "    .dataframe thead th {\n",
       "        text-align: right;\n",
       "    }\n",
       "</style>\n",
       "<table border=\"1\" class=\"dataframe\">\n",
       "  <thead>\n",
       "    <tr style=\"text-align: right;\">\n",
       "      <th></th>\n",
       "      <th>sl_no</th>\n",
       "      <th>gender</th>\n",
       "      <th>ssc_p</th>\n",
       "      <th>ssc_b</th>\n",
       "      <th>hsc_p</th>\n",
       "      <th>hsc_b</th>\n",
       "      <th>hsc_s</th>\n",
       "      <th>degree_p</th>\n",
       "      <th>degree_t</th>\n",
       "      <th>workex</th>\n",
       "      <th>etest_p</th>\n",
       "      <th>specialisation</th>\n",
       "      <th>mba_p</th>\n",
       "      <th>status</th>\n",
       "      <th>salary</th>\n",
       "    </tr>\n",
       "  </thead>\n",
       "  <tbody>\n",
       "    <tr>\n",
       "      <th>0</th>\n",
       "      <td>1</td>\n",
       "      <td>M</td>\n",
       "      <td>67.00</td>\n",
       "      <td>Others</td>\n",
       "      <td>91.00</td>\n",
       "      <td>Others</td>\n",
       "      <td>Commerce</td>\n",
       "      <td>58.00</td>\n",
       "      <td>Sci&amp;Tech</td>\n",
       "      <td>No</td>\n",
       "      <td>55.0</td>\n",
       "      <td>Mkt&amp;HR</td>\n",
       "      <td>58.80</td>\n",
       "      <td>Placed</td>\n",
       "      <td>270000.0</td>\n",
       "    </tr>\n",
       "    <tr>\n",
       "      <th>1</th>\n",
       "      <td>2</td>\n",
       "      <td>M</td>\n",
       "      <td>79.33</td>\n",
       "      <td>Central</td>\n",
       "      <td>78.33</td>\n",
       "      <td>Others</td>\n",
       "      <td>Science</td>\n",
       "      <td>77.48</td>\n",
       "      <td>Sci&amp;Tech</td>\n",
       "      <td>Yes</td>\n",
       "      <td>86.5</td>\n",
       "      <td>Mkt&amp;Fin</td>\n",
       "      <td>66.28</td>\n",
       "      <td>Placed</td>\n",
       "      <td>200000.0</td>\n",
       "    </tr>\n",
       "    <tr>\n",
       "      <th>2</th>\n",
       "      <td>3</td>\n",
       "      <td>M</td>\n",
       "      <td>65.00</td>\n",
       "      <td>Central</td>\n",
       "      <td>68.00</td>\n",
       "      <td>Central</td>\n",
       "      <td>Arts</td>\n",
       "      <td>64.00</td>\n",
       "      <td>Comm&amp;Mgmt</td>\n",
       "      <td>No</td>\n",
       "      <td>75.0</td>\n",
       "      <td>Mkt&amp;Fin</td>\n",
       "      <td>57.80</td>\n",
       "      <td>Placed</td>\n",
       "      <td>250000.0</td>\n",
       "    </tr>\n",
       "    <tr>\n",
       "      <th>3</th>\n",
       "      <td>4</td>\n",
       "      <td>M</td>\n",
       "      <td>56.00</td>\n",
       "      <td>Central</td>\n",
       "      <td>52.00</td>\n",
       "      <td>Central</td>\n",
       "      <td>Science</td>\n",
       "      <td>52.00</td>\n",
       "      <td>Sci&amp;Tech</td>\n",
       "      <td>No</td>\n",
       "      <td>66.0</td>\n",
       "      <td>Mkt&amp;HR</td>\n",
       "      <td>59.43</td>\n",
       "      <td>Not Placed</td>\n",
       "      <td>NaN</td>\n",
       "    </tr>\n",
       "    <tr>\n",
       "      <th>4</th>\n",
       "      <td>5</td>\n",
       "      <td>M</td>\n",
       "      <td>85.80</td>\n",
       "      <td>Central</td>\n",
       "      <td>73.60</td>\n",
       "      <td>Central</td>\n",
       "      <td>Commerce</td>\n",
       "      <td>73.30</td>\n",
       "      <td>Comm&amp;Mgmt</td>\n",
       "      <td>No</td>\n",
       "      <td>96.8</td>\n",
       "      <td>Mkt&amp;Fin</td>\n",
       "      <td>55.50</td>\n",
       "      <td>Placed</td>\n",
       "      <td>425000.0</td>\n",
       "    </tr>\n",
       "  </tbody>\n",
       "</table>\n",
       "</div>"
      ],
      "text/plain": [
       "   sl_no gender  ssc_p    ssc_b  hsc_p    hsc_b     hsc_s  degree_p  \\\n",
       "0      1      M  67.00   Others  91.00   Others  Commerce     58.00   \n",
       "1      2      M  79.33  Central  78.33   Others   Science     77.48   \n",
       "2      3      M  65.00  Central  68.00  Central      Arts     64.00   \n",
       "3      4      M  56.00  Central  52.00  Central   Science     52.00   \n",
       "4      5      M  85.80  Central  73.60  Central  Commerce     73.30   \n",
       "\n",
       "    degree_t workex  etest_p specialisation  mba_p      status    salary  \n",
       "0   Sci&Tech     No     55.0         Mkt&HR  58.80      Placed  270000.0  \n",
       "1   Sci&Tech    Yes     86.5        Mkt&Fin  66.28      Placed  200000.0  \n",
       "2  Comm&Mgmt     No     75.0        Mkt&Fin  57.80      Placed  250000.0  \n",
       "3   Sci&Tech     No     66.0         Mkt&HR  59.43  Not Placed       NaN  \n",
       "4  Comm&Mgmt     No     96.8        Mkt&Fin  55.50      Placed  425000.0  "
      ]
     },
     "execution_count": 42,
     "metadata": {},
     "output_type": "execute_result"
    }
   ],
   "source": [
    "df.head(5)"
   ]
  },
  {
   "cell_type": "code",
   "execution_count": 43,
   "id": "49ae17c3",
   "metadata": {},
   "outputs": [],
   "source": [
    "df.drop(['ssc_b','hsc_b','hsc_s','degree_t','salary'],axis=1,inplace=True)"
   ]
  },
  {
   "cell_type": "code",
   "execution_count": 44,
   "id": "e3b8eedb",
   "metadata": {},
   "outputs": [
    {
     "data": {
      "text/plain": [
       "sl_no             0\n",
       "gender            0\n",
       "ssc_p             0\n",
       "hsc_p             0\n",
       "degree_p          0\n",
       "workex            0\n",
       "etest_p           0\n",
       "specialisation    0\n",
       "mba_p             0\n",
       "status            0\n",
       "dtype: int64"
      ]
     },
     "execution_count": 44,
     "metadata": {},
     "output_type": "execute_result"
    }
   ],
   "source": [
    "df.isnull().sum()"
   ]
  },
  {
   "cell_type": "markdown",
   "id": "254de07f",
   "metadata": {},
   "source": [
    "## Preprocessing"
   ]
  },
  {
   "cell_type": "markdown",
   "id": "0c2c3076",
   "metadata": {},
   "source": [
    "## ENcoding"
   ]
  },
  {
   "cell_type": "code",
   "execution_count": 45,
   "id": "4100c9e7",
   "metadata": {},
   "outputs": [],
   "source": [
    "df['gender']=df.gender.map({'M':0,'F':1})\n",
    "df['workex']=df.workex.map({'No':0,'Yes':1})\n",
    "df['status']=df.status.map({'Not Placed':0,'Placed':1})\n",
    "df['specialisation']=df.specialisation.map({'Mkt&HR':0,'Mkt&Fin':1})"
   ]
  },
  {
   "cell_type": "code",
   "execution_count": 46,
   "id": "28ed5799",
   "metadata": {},
   "outputs": [
    {
     "data": {
      "text/html": [
       "<div>\n",
       "<style scoped>\n",
       "    .dataframe tbody tr th:only-of-type {\n",
       "        vertical-align: middle;\n",
       "    }\n",
       "\n",
       "    .dataframe tbody tr th {\n",
       "        vertical-align: top;\n",
       "    }\n",
       "\n",
       "    .dataframe thead th {\n",
       "        text-align: right;\n",
       "    }\n",
       "</style>\n",
       "<table border=\"1\" class=\"dataframe\">\n",
       "  <thead>\n",
       "    <tr style=\"text-align: right;\">\n",
       "      <th></th>\n",
       "      <th>sl_no</th>\n",
       "      <th>gender</th>\n",
       "      <th>ssc_p</th>\n",
       "      <th>hsc_p</th>\n",
       "      <th>degree_p</th>\n",
       "      <th>workex</th>\n",
       "      <th>etest_p</th>\n",
       "      <th>specialisation</th>\n",
       "      <th>mba_p</th>\n",
       "      <th>status</th>\n",
       "    </tr>\n",
       "  </thead>\n",
       "  <tbody>\n",
       "    <tr>\n",
       "      <th>0</th>\n",
       "      <td>1</td>\n",
       "      <td>0</td>\n",
       "      <td>67.00</td>\n",
       "      <td>91.00</td>\n",
       "      <td>58.00</td>\n",
       "      <td>0</td>\n",
       "      <td>55.0</td>\n",
       "      <td>0</td>\n",
       "      <td>58.80</td>\n",
       "      <td>1</td>\n",
       "    </tr>\n",
       "    <tr>\n",
       "      <th>1</th>\n",
       "      <td>2</td>\n",
       "      <td>0</td>\n",
       "      <td>79.33</td>\n",
       "      <td>78.33</td>\n",
       "      <td>77.48</td>\n",
       "      <td>1</td>\n",
       "      <td>86.5</td>\n",
       "      <td>1</td>\n",
       "      <td>66.28</td>\n",
       "      <td>1</td>\n",
       "    </tr>\n",
       "    <tr>\n",
       "      <th>2</th>\n",
       "      <td>3</td>\n",
       "      <td>0</td>\n",
       "      <td>65.00</td>\n",
       "      <td>68.00</td>\n",
       "      <td>64.00</td>\n",
       "      <td>0</td>\n",
       "      <td>75.0</td>\n",
       "      <td>1</td>\n",
       "      <td>57.80</td>\n",
       "      <td>1</td>\n",
       "    </tr>\n",
       "    <tr>\n",
       "      <th>3</th>\n",
       "      <td>4</td>\n",
       "      <td>0</td>\n",
       "      <td>56.00</td>\n",
       "      <td>52.00</td>\n",
       "      <td>52.00</td>\n",
       "      <td>0</td>\n",
       "      <td>66.0</td>\n",
       "      <td>0</td>\n",
       "      <td>59.43</td>\n",
       "      <td>0</td>\n",
       "    </tr>\n",
       "    <tr>\n",
       "      <th>4</th>\n",
       "      <td>5</td>\n",
       "      <td>0</td>\n",
       "      <td>85.80</td>\n",
       "      <td>73.60</td>\n",
       "      <td>73.30</td>\n",
       "      <td>0</td>\n",
       "      <td>96.8</td>\n",
       "      <td>1</td>\n",
       "      <td>55.50</td>\n",
       "      <td>1</td>\n",
       "    </tr>\n",
       "    <tr>\n",
       "      <th>...</th>\n",
       "      <td>...</td>\n",
       "      <td>...</td>\n",
       "      <td>...</td>\n",
       "      <td>...</td>\n",
       "      <td>...</td>\n",
       "      <td>...</td>\n",
       "      <td>...</td>\n",
       "      <td>...</td>\n",
       "      <td>...</td>\n",
       "      <td>...</td>\n",
       "    </tr>\n",
       "    <tr>\n",
       "      <th>210</th>\n",
       "      <td>211</td>\n",
       "      <td>0</td>\n",
       "      <td>80.60</td>\n",
       "      <td>82.00</td>\n",
       "      <td>77.60</td>\n",
       "      <td>0</td>\n",
       "      <td>91.0</td>\n",
       "      <td>1</td>\n",
       "      <td>74.49</td>\n",
       "      <td>1</td>\n",
       "    </tr>\n",
       "    <tr>\n",
       "      <th>211</th>\n",
       "      <td>212</td>\n",
       "      <td>0</td>\n",
       "      <td>58.00</td>\n",
       "      <td>60.00</td>\n",
       "      <td>72.00</td>\n",
       "      <td>0</td>\n",
       "      <td>74.0</td>\n",
       "      <td>1</td>\n",
       "      <td>53.62</td>\n",
       "      <td>1</td>\n",
       "    </tr>\n",
       "    <tr>\n",
       "      <th>212</th>\n",
       "      <td>213</td>\n",
       "      <td>0</td>\n",
       "      <td>67.00</td>\n",
       "      <td>67.00</td>\n",
       "      <td>73.00</td>\n",
       "      <td>1</td>\n",
       "      <td>59.0</td>\n",
       "      <td>1</td>\n",
       "      <td>69.72</td>\n",
       "      <td>1</td>\n",
       "    </tr>\n",
       "    <tr>\n",
       "      <th>213</th>\n",
       "      <td>214</td>\n",
       "      <td>1</td>\n",
       "      <td>74.00</td>\n",
       "      <td>66.00</td>\n",
       "      <td>58.00</td>\n",
       "      <td>0</td>\n",
       "      <td>70.0</td>\n",
       "      <td>0</td>\n",
       "      <td>60.23</td>\n",
       "      <td>1</td>\n",
       "    </tr>\n",
       "    <tr>\n",
       "      <th>214</th>\n",
       "      <td>215</td>\n",
       "      <td>0</td>\n",
       "      <td>62.00</td>\n",
       "      <td>58.00</td>\n",
       "      <td>53.00</td>\n",
       "      <td>0</td>\n",
       "      <td>89.0</td>\n",
       "      <td>0</td>\n",
       "      <td>60.22</td>\n",
       "      <td>0</td>\n",
       "    </tr>\n",
       "  </tbody>\n",
       "</table>\n",
       "<p>215 rows × 10 columns</p>\n",
       "</div>"
      ],
      "text/plain": [
       "     sl_no  gender  ssc_p  hsc_p  degree_p  workex  etest_p  specialisation  \\\n",
       "0        1       0  67.00  91.00     58.00       0     55.0               0   \n",
       "1        2       0  79.33  78.33     77.48       1     86.5               1   \n",
       "2        3       0  65.00  68.00     64.00       0     75.0               1   \n",
       "3        4       0  56.00  52.00     52.00       0     66.0               0   \n",
       "4        5       0  85.80  73.60     73.30       0     96.8               1   \n",
       "..     ...     ...    ...    ...       ...     ...      ...             ...   \n",
       "210    211       0  80.60  82.00     77.60       0     91.0               1   \n",
       "211    212       0  58.00  60.00     72.00       0     74.0               1   \n",
       "212    213       0  67.00  67.00     73.00       1     59.0               1   \n",
       "213    214       1  74.00  66.00     58.00       0     70.0               0   \n",
       "214    215       0  62.00  58.00     53.00       0     89.0               0   \n",
       "\n",
       "     mba_p  status  \n",
       "0    58.80       1  \n",
       "1    66.28       1  \n",
       "2    57.80       1  \n",
       "3    59.43       0  \n",
       "4    55.50       1  \n",
       "..     ...     ...  \n",
       "210  74.49       1  \n",
       "211  53.62       1  \n",
       "212  69.72       1  \n",
       "213  60.23       1  \n",
       "214  60.22       0  \n",
       "\n",
       "[215 rows x 10 columns]"
      ]
     },
     "execution_count": 46,
     "metadata": {},
     "output_type": "execute_result"
    }
   ],
   "source": [
    "df"
   ]
  },
  {
   "cell_type": "markdown",
   "id": "365e034e",
   "metadata": {},
   "source": [
    "## Balance dataset"
   ]
  },
  {
   "cell_type": "code",
   "execution_count": 47,
   "id": "609773d9",
   "metadata": {},
   "outputs": [
    {
     "data": {
      "text/plain": [
       "status\n",
       "1    148\n",
       "0     67\n",
       "Name: count, dtype: int64"
      ]
     },
     "execution_count": 47,
     "metadata": {},
     "output_type": "execute_result"
    }
   ],
   "source": [
    "df['status'].value_counts()"
   ]
  },
  {
   "cell_type": "code",
   "execution_count": 48,
   "id": "c5da9d76",
   "metadata": {},
   "outputs": [],
   "source": [
    "from sklearn.utils import resample\n",
    "\n",
    "# seperate the majority and minority classes\n",
    "data_majority=df[df['status']==1]\n",
    "data_minority=df[df['status']==0]\n",
    "\n",
    "#Upsample minority class\n",
    "\n",
    "data_minority_unsample=resample(data_minority,\n",
    "                                replace=True,\n",
    "                                n_samples=len(data_majority), # to match majority class\n",
    "                                random_state=42\n",
    "                                )\n",
    "#\n",
    "balanced_data=pd.concat([data_majority,data_minority_unsample])\n"
   ]
  },
  {
   "cell_type": "code",
   "execution_count": 49,
   "id": "fb742554",
   "metadata": {},
   "outputs": [
    {
     "data": {
      "text/html": [
       "<div>\n",
       "<style scoped>\n",
       "    .dataframe tbody tr th:only-of-type {\n",
       "        vertical-align: middle;\n",
       "    }\n",
       "\n",
       "    .dataframe tbody tr th {\n",
       "        vertical-align: top;\n",
       "    }\n",
       "\n",
       "    .dataframe thead th {\n",
       "        text-align: right;\n",
       "    }\n",
       "</style>\n",
       "<table border=\"1\" class=\"dataframe\">\n",
       "  <thead>\n",
       "    <tr style=\"text-align: right;\">\n",
       "      <th></th>\n",
       "      <th>sl_no</th>\n",
       "      <th>gender</th>\n",
       "      <th>ssc_p</th>\n",
       "      <th>hsc_p</th>\n",
       "      <th>degree_p</th>\n",
       "      <th>workex</th>\n",
       "      <th>etest_p</th>\n",
       "      <th>specialisation</th>\n",
       "      <th>mba_p</th>\n",
       "      <th>status</th>\n",
       "    </tr>\n",
       "  </thead>\n",
       "  <tbody>\n",
       "    <tr>\n",
       "      <th>0</th>\n",
       "      <td>1</td>\n",
       "      <td>0</td>\n",
       "      <td>67.00</td>\n",
       "      <td>91.00</td>\n",
       "      <td>58.00</td>\n",
       "      <td>0</td>\n",
       "      <td>55.00</td>\n",
       "      <td>0</td>\n",
       "      <td>58.80</td>\n",
       "      <td>1</td>\n",
       "    </tr>\n",
       "    <tr>\n",
       "      <th>1</th>\n",
       "      <td>2</td>\n",
       "      <td>0</td>\n",
       "      <td>79.33</td>\n",
       "      <td>78.33</td>\n",
       "      <td>77.48</td>\n",
       "      <td>1</td>\n",
       "      <td>86.50</td>\n",
       "      <td>1</td>\n",
       "      <td>66.28</td>\n",
       "      <td>1</td>\n",
       "    </tr>\n",
       "    <tr>\n",
       "      <th>2</th>\n",
       "      <td>3</td>\n",
       "      <td>0</td>\n",
       "      <td>65.00</td>\n",
       "      <td>68.00</td>\n",
       "      <td>64.00</td>\n",
       "      <td>0</td>\n",
       "      <td>75.00</td>\n",
       "      <td>1</td>\n",
       "      <td>57.80</td>\n",
       "      <td>1</td>\n",
       "    </tr>\n",
       "    <tr>\n",
       "      <th>4</th>\n",
       "      <td>5</td>\n",
       "      <td>0</td>\n",
       "      <td>85.80</td>\n",
       "      <td>73.60</td>\n",
       "      <td>73.30</td>\n",
       "      <td>0</td>\n",
       "      <td>96.80</td>\n",
       "      <td>1</td>\n",
       "      <td>55.50</td>\n",
       "      <td>1</td>\n",
       "    </tr>\n",
       "    <tr>\n",
       "      <th>7</th>\n",
       "      <td>8</td>\n",
       "      <td>0</td>\n",
       "      <td>82.00</td>\n",
       "      <td>64.00</td>\n",
       "      <td>66.00</td>\n",
       "      <td>1</td>\n",
       "      <td>67.00</td>\n",
       "      <td>1</td>\n",
       "      <td>62.14</td>\n",
       "      <td>1</td>\n",
       "    </tr>\n",
       "    <tr>\n",
       "      <th>...</th>\n",
       "      <td>...</td>\n",
       "      <td>...</td>\n",
       "      <td>...</td>\n",
       "      <td>...</td>\n",
       "      <td>...</td>\n",
       "      <td>...</td>\n",
       "      <td>...</td>\n",
       "      <td>...</td>\n",
       "      <td>...</td>\n",
       "      <td>...</td>\n",
       "    </tr>\n",
       "    <tr>\n",
       "      <th>100</th>\n",
       "      <td>101</td>\n",
       "      <td>1</td>\n",
       "      <td>45.00</td>\n",
       "      <td>57.00</td>\n",
       "      <td>58.00</td>\n",
       "      <td>1</td>\n",
       "      <td>56.39</td>\n",
       "      <td>0</td>\n",
       "      <td>64.95</td>\n",
       "      <td>0</td>\n",
       "    </tr>\n",
       "    <tr>\n",
       "      <th>173</th>\n",
       "      <td>174</td>\n",
       "      <td>1</td>\n",
       "      <td>52.00</td>\n",
       "      <td>52.00</td>\n",
       "      <td>55.00</td>\n",
       "      <td>0</td>\n",
       "      <td>67.00</td>\n",
       "      <td>0</td>\n",
       "      <td>59.32</td>\n",
       "      <td>0</td>\n",
       "    </tr>\n",
       "    <tr>\n",
       "      <th>194</th>\n",
       "      <td>195</td>\n",
       "      <td>0</td>\n",
       "      <td>52.00</td>\n",
       "      <td>55.00</td>\n",
       "      <td>56.30</td>\n",
       "      <td>0</td>\n",
       "      <td>59.00</td>\n",
       "      <td>1</td>\n",
       "      <td>64.74</td>\n",
       "      <td>0</td>\n",
       "    </tr>\n",
       "    <tr>\n",
       "      <th>186</th>\n",
       "      <td>187</td>\n",
       "      <td>1</td>\n",
       "      <td>52.00</td>\n",
       "      <td>64.00</td>\n",
       "      <td>61.00</td>\n",
       "      <td>0</td>\n",
       "      <td>55.00</td>\n",
       "      <td>1</td>\n",
       "      <td>62.93</td>\n",
       "      <td>0</td>\n",
       "    </tr>\n",
       "    <tr>\n",
       "      <th>173</th>\n",
       "      <td>174</td>\n",
       "      <td>1</td>\n",
       "      <td>52.00</td>\n",
       "      <td>52.00</td>\n",
       "      <td>55.00</td>\n",
       "      <td>0</td>\n",
       "      <td>67.00</td>\n",
       "      <td>0</td>\n",
       "      <td>59.32</td>\n",
       "      <td>0</td>\n",
       "    </tr>\n",
       "  </tbody>\n",
       "</table>\n",
       "<p>296 rows × 10 columns</p>\n",
       "</div>"
      ],
      "text/plain": [
       "     sl_no  gender  ssc_p  hsc_p  degree_p  workex  etest_p  specialisation  \\\n",
       "0        1       0  67.00  91.00     58.00       0    55.00               0   \n",
       "1        2       0  79.33  78.33     77.48       1    86.50               1   \n",
       "2        3       0  65.00  68.00     64.00       0    75.00               1   \n",
       "4        5       0  85.80  73.60     73.30       0    96.80               1   \n",
       "7        8       0  82.00  64.00     66.00       1    67.00               1   \n",
       "..     ...     ...    ...    ...       ...     ...      ...             ...   \n",
       "100    101       1  45.00  57.00     58.00       1    56.39               0   \n",
       "173    174       1  52.00  52.00     55.00       0    67.00               0   \n",
       "194    195       0  52.00  55.00     56.30       0    59.00               1   \n",
       "186    187       1  52.00  64.00     61.00       0    55.00               1   \n",
       "173    174       1  52.00  52.00     55.00       0    67.00               0   \n",
       "\n",
       "     mba_p  status  \n",
       "0    58.80       1  \n",
       "1    66.28       1  \n",
       "2    57.80       1  \n",
       "4    55.50       1  \n",
       "7    62.14       1  \n",
       "..     ...     ...  \n",
       "100  64.95       0  \n",
       "173  59.32       0  \n",
       "194  64.74       0  \n",
       "186  62.93       0  \n",
       "173  59.32       0  \n",
       "\n",
       "[296 rows x 10 columns]"
      ]
     },
     "execution_count": 49,
     "metadata": {},
     "output_type": "execute_result"
    }
   ],
   "source": [
    "balanced_data"
   ]
  },
  {
   "cell_type": "code",
   "execution_count": 50,
   "id": "4f17c28a",
   "metadata": {},
   "outputs": [
    {
     "data": {
      "text/plain": [
       "status\n",
       "1    148\n",
       "0    148\n",
       "Name: count, dtype: int64"
      ]
     },
     "execution_count": 50,
     "metadata": {},
     "output_type": "execute_result"
    }
   ],
   "source": [
    "balanced_data['status'].value_counts()"
   ]
  },
  {
   "cell_type": "markdown",
   "id": "b634c3bb",
   "metadata": {},
   "source": [
    "# Train Test Split"
   ]
  },
  {
   "cell_type": "code",
   "execution_count": 51,
   "id": "05f4a2e5",
   "metadata": {},
   "outputs": [],
   "source": [
    "from matplotlib import axis\n",
    "\n",
    "\n",
    "X=balanced_data.copy().drop('status',axis=1)\n",
    "y=balanced_data['status']"
   ]
  },
  {
   "cell_type": "code",
   "execution_count": 52,
   "id": "812cc2a4",
   "metadata": {},
   "outputs": [],
   "source": [
    "from sklearn.model_selection import train_test_split\n",
    "\n",
    "X_train, X_test, y_train, y_test = train_test_split(\n",
    "    X, y,\n",
    "    test_size=0.3,       # 20% test data\n",
    "    random_state=42     # for reproducibility        \n",
    ")"
   ]
  },
  {
   "cell_type": "code",
   "execution_count": 53,
   "id": "d291b66f",
   "metadata": {},
   "outputs": [
    {
     "data": {
      "text/plain": [
       "((207, 9), (207,), (89, 9), (89,))"
      ]
     },
     "execution_count": 53,
     "metadata": {},
     "output_type": "execute_result"
    }
   ],
   "source": [
    "X_train.shape,y_train.shape,X_test.shape,y_test.shape"
   ]
  },
  {
   "cell_type": "code",
   "execution_count": 54,
   "id": "95fc69e2",
   "metadata": {},
   "outputs": [
    {
     "data": {
      "text/html": [
       "<div>\n",
       "<style scoped>\n",
       "    .dataframe tbody tr th:only-of-type {\n",
       "        vertical-align: middle;\n",
       "    }\n",
       "\n",
       "    .dataframe tbody tr th {\n",
       "        vertical-align: top;\n",
       "    }\n",
       "\n",
       "    .dataframe thead th {\n",
       "        text-align: right;\n",
       "    }\n",
       "</style>\n",
       "<table border=\"1\" class=\"dataframe\">\n",
       "  <thead>\n",
       "    <tr style=\"text-align: right;\">\n",
       "      <th></th>\n",
       "      <th>sl_no</th>\n",
       "      <th>gender</th>\n",
       "      <th>ssc_p</th>\n",
       "      <th>hsc_p</th>\n",
       "      <th>degree_p</th>\n",
       "      <th>workex</th>\n",
       "      <th>etest_p</th>\n",
       "      <th>specialisation</th>\n",
       "      <th>mba_p</th>\n",
       "    </tr>\n",
       "  </thead>\n",
       "  <tbody>\n",
       "    <tr>\n",
       "      <th>101</th>\n",
       "      <td>102</td>\n",
       "      <td>0</td>\n",
       "      <td>63.0</td>\n",
       "      <td>72.0</td>\n",
       "      <td>68.00</td>\n",
       "      <td>0</td>\n",
       "      <td>78.00</td>\n",
       "      <td>0</td>\n",
       "      <td>60.44</td>\n",
       "    </tr>\n",
       "    <tr>\n",
       "      <th>158</th>\n",
       "      <td>159</td>\n",
       "      <td>0</td>\n",
       "      <td>67.0</td>\n",
       "      <td>63.0</td>\n",
       "      <td>64.00</td>\n",
       "      <td>0</td>\n",
       "      <td>60.00</td>\n",
       "      <td>1</td>\n",
       "      <td>61.87</td>\n",
       "    </tr>\n",
       "    <tr>\n",
       "      <th>65</th>\n",
       "      <td>66</td>\n",
       "      <td>0</td>\n",
       "      <td>54.0</td>\n",
       "      <td>47.0</td>\n",
       "      <td>57.00</td>\n",
       "      <td>0</td>\n",
       "      <td>89.69</td>\n",
       "      <td>0</td>\n",
       "      <td>57.10</td>\n",
       "    </tr>\n",
       "    <tr>\n",
       "      <th>180</th>\n",
       "      <td>181</td>\n",
       "      <td>0</td>\n",
       "      <td>65.0</td>\n",
       "      <td>71.5</td>\n",
       "      <td>62.80</td>\n",
       "      <td>1</td>\n",
       "      <td>57.00</td>\n",
       "      <td>1</td>\n",
       "      <td>56.60</td>\n",
       "    </tr>\n",
       "    <tr>\n",
       "      <th>206</th>\n",
       "      <td>207</td>\n",
       "      <td>0</td>\n",
       "      <td>41.0</td>\n",
       "      <td>42.0</td>\n",
       "      <td>60.00</td>\n",
       "      <td>0</td>\n",
       "      <td>97.00</td>\n",
       "      <td>1</td>\n",
       "      <td>53.39</td>\n",
       "    </tr>\n",
       "    <tr>\n",
       "      <th>...</th>\n",
       "      <td>...</td>\n",
       "      <td>...</td>\n",
       "      <td>...</td>\n",
       "      <td>...</td>\n",
       "      <td>...</td>\n",
       "      <td>...</td>\n",
       "      <td>...</td>\n",
       "      <td>...</td>\n",
       "      <td>...</td>\n",
       "    </tr>\n",
       "    <tr>\n",
       "      <th>175</th>\n",
       "      <td>176</td>\n",
       "      <td>0</td>\n",
       "      <td>63.0</td>\n",
       "      <td>62.0</td>\n",
       "      <td>65.00</td>\n",
       "      <td>0</td>\n",
       "      <td>87.50</td>\n",
       "      <td>0</td>\n",
       "      <td>60.69</td>\n",
       "    </tr>\n",
       "    <tr>\n",
       "      <th>103</th>\n",
       "      <td>104</td>\n",
       "      <td>0</td>\n",
       "      <td>73.0</td>\n",
       "      <td>78.0</td>\n",
       "      <td>73.00</td>\n",
       "      <td>1</td>\n",
       "      <td>85.00</td>\n",
       "      <td>0</td>\n",
       "      <td>65.83</td>\n",
       "    </tr>\n",
       "    <tr>\n",
       "      <th>147</th>\n",
       "      <td>148</td>\n",
       "      <td>0</td>\n",
       "      <td>70.0</td>\n",
       "      <td>74.0</td>\n",
       "      <td>65.00</td>\n",
       "      <td>0</td>\n",
       "      <td>83.00</td>\n",
       "      <td>1</td>\n",
       "      <td>62.28</td>\n",
       "    </tr>\n",
       "    <tr>\n",
       "      <th>194</th>\n",
       "      <td>195</td>\n",
       "      <td>0</td>\n",
       "      <td>52.0</td>\n",
       "      <td>55.0</td>\n",
       "      <td>56.30</td>\n",
       "      <td>0</td>\n",
       "      <td>59.00</td>\n",
       "      <td>1</td>\n",
       "      <td>64.74</td>\n",
       "    </tr>\n",
       "    <tr>\n",
       "      <th>142</th>\n",
       "      <td>143</td>\n",
       "      <td>0</td>\n",
       "      <td>85.0</td>\n",
       "      <td>60.0</td>\n",
       "      <td>73.43</td>\n",
       "      <td>1</td>\n",
       "      <td>60.00</td>\n",
       "      <td>1</td>\n",
       "      <td>61.29</td>\n",
       "    </tr>\n",
       "  </tbody>\n",
       "</table>\n",
       "<p>207 rows × 9 columns</p>\n",
       "</div>"
      ],
      "text/plain": [
       "     sl_no  gender  ssc_p  hsc_p  degree_p  workex  etest_p  specialisation  \\\n",
       "101    102       0   63.0   72.0     68.00       0    78.00               0   \n",
       "158    159       0   67.0   63.0     64.00       0    60.00               1   \n",
       "65      66       0   54.0   47.0     57.00       0    89.69               0   \n",
       "180    181       0   65.0   71.5     62.80       1    57.00               1   \n",
       "206    207       0   41.0   42.0     60.00       0    97.00               1   \n",
       "..     ...     ...    ...    ...       ...     ...      ...             ...   \n",
       "175    176       0   63.0   62.0     65.00       0    87.50               0   \n",
       "103    104       0   73.0   78.0     73.00       1    85.00               0   \n",
       "147    148       0   70.0   74.0     65.00       0    83.00               1   \n",
       "194    195       0   52.0   55.0     56.30       0    59.00               1   \n",
       "142    143       0   85.0   60.0     73.43       1    60.00               1   \n",
       "\n",
       "     mba_p  \n",
       "101  60.44  \n",
       "158  61.87  \n",
       "65   57.10  \n",
       "180  56.60  \n",
       "206  53.39  \n",
       "..     ...  \n",
       "175  60.69  \n",
       "103  65.83  \n",
       "147  62.28  \n",
       "194  64.74  \n",
       "142  61.29  \n",
       "\n",
       "[207 rows x 9 columns]"
      ]
     },
     "execution_count": 54,
     "metadata": {},
     "output_type": "execute_result"
    }
   ],
   "source": [
    "X_train"
   ]
  },
  {
   "cell_type": "code",
   "execution_count": 55,
   "id": "126ae6a2",
   "metadata": {},
   "outputs": [],
   "source": [
    "from sklearn.preprocessing import MinMaxScaler\n",
    "scaler=MinMaxScaler()\n",
    "\n",
    "X_train=scaler.fit_transform(X_train)\n",
    "X_test=scaler.fit_transform(X_test)"
   ]
  },
  {
   "cell_type": "markdown",
   "id": "a34ab31c",
   "metadata": {},
   "source": [
    "# K-nearest neighbour"
   ]
  },
  {
   "cell_type": "code",
   "execution_count": 56,
   "id": "1962ece5",
   "metadata": {},
   "outputs": [
    {
     "data": {
      "text/plain": [
       "0.8539325842696629"
      ]
     },
     "execution_count": 56,
     "metadata": {},
     "output_type": "execute_result"
    }
   ],
   "source": [
    "from sklearn.neighbors import KNeighborsClassifier\n",
    "from sklearn.metrics import accuracy_score\n",
    "knn=KNeighborsClassifier(n_neighbors=3)\n",
    "knn.fit(X_train,y_train)\n",
    "\n",
    "knn_y_pred=knn.predict(X_test)\n",
    "\n",
    "Knn_accuracy=accuracy_score(y_test,knn_y_pred)\n",
    "Knn_accuracy"
   ]
  },
  {
   "cell_type": "code",
   "execution_count": 57,
   "id": "7233e7cc",
   "metadata": {},
   "outputs": [
    {
     "data": {
      "image/png": "[encoded data removed]",
      "text/plain": [
       "<Figure size 640x480 with 2 Axes>"
      ]
     },
     "metadata": {},
     "output_type": "display_data"
    }
   ],
   "source": [
    "from sklearn.metrics import confusion_matrix\n",
    "conf_mat=confusion_matrix(y_test,knn_y_pred)\n",
    "\n",
    "fig=plt.Figure(figsize=(10,7))\n",
    "group_names=['True Neg','False pos','False Neg','True Pos']\n",
    "group_counts=[\"{0:0.0f}\".format(value) for value in conf_mat.flatten()]\n",
    "labels=[f\"{v1}\\n{v2}\" for v1,v2 in zip(group_names,group_counts)]\n",
    "labels=np.asarray(labels).reshape(2,2)\n",
    "\n",
    "\n",
    "sns.heatmap(conf_mat, annot=labels, annot_kws={\"size\": 16}, fmt='')\n",
    "plt.title(\"Confusion Matrix\")\n",
    "plt.xlabel(\"Predicted Label\")\n",
    "plt.ylabel(\"True Label\")\n",
    "plt.show()"
   ]
  },
  {
   "cell_type": "markdown",
   "id": "ed043656",
   "metadata": {},
   "source": [
    "# Decision Tree"
   ]
  },
  {
   "cell_type": "code",
   "execution_count": 58,
   "id": "583622c4",
   "metadata": {},
   "outputs": [
    {
     "data": {
      "text/plain": [
       "0.8202247191011236"
      ]
     },
     "execution_count": 58,
     "metadata": {},
     "output_type": "execute_result"
    }
   ],
   "source": [
    " #Decision Tree\n",
    "from sklearn.tree import DecisionTreeClassifier\n",
    "\n",
    "decision_tree = DecisionTreeClassifier()\n",
    "decision_tree.fit(X_train, y_train)\n",
    "decision_tree_Y_pred = decision_tree.predict(X_test)\n",
    "decision_tree_accuracy = decision_tree.score(X_test, y_test)\n",
    "decision_tree_accuracy"
   ]
  },
  {
   "cell_type": "code",
   "execution_count": 59,
   "id": "a4368ef9",
   "metadata": {},
   "outputs": [
    {
     "data": {
      "image/png": "[encoded data removed]",
      "text/plain": [
       "<Figure size 1000x700 with 2 Axes>"
      ]
     },
     "metadata": {},
     "output_type": "display_data"
    }
   ],
   "source": [
    "# creating confusion matrix heatmap\n",
    "\n",
    "conf_mat = confusion_matrix(y_test, decision_tree_Y_pred)\n",
    "fig = plt.figure(figsize=(10,7))\n",
    "group_names = ['True Neg','False Pos','False Neg','True Pos']\n",
    "group_counts = [\"{0:0.0f}\".format(value) for value in\n",
    "                conf_mat.flatten()]\n",
    "labels = [f\"{v1}\\n{v2}\" for v1, v2 in zip(group_names,group_counts)]\n",
    "labels = np.asarray(labels).reshape(2,2)\n",
    "sns.heatmap(conf_mat, annot=labels, annot_kws={\"size\": 16}, fmt='')\n",
    "plt.title(\"Confusion Matrix\")\n",
    "plt.xlabel(\"Predicted Label\")\n",
    "plt.ylabel(\"True Label\")\n",
    "plt.show()"
   ]
  },
  {
   "cell_type": "markdown",
   "id": "376bbc4d",
   "metadata": {},
   "source": [
    "# SVM"
   ]
  },
  {
   "cell_type": "code",
   "execution_count": 68,
   "id": "143ac8b3",
   "metadata": {},
   "outputs": [
    {
     "data": {
      "text/plain": [
       "0.8876404494382022"
      ]
     },
     "execution_count": 68,
     "metadata": {},
     "output_type": "execute_result"
    }
   ],
   "source": [
    "# Support Vector Machine\n",
    "from sklearn.svm import SVC\n",
    "svc = SVC()\n",
    "svc.fit(X_train, y_train)\n",
    "svm_Y_pred = svc.predict(X_test)\n",
    "svc_accuracy = svc.score(X_test, y_test)\n",
    "svc_accuracy"
   ]
  },
  {
   "cell_type": "code",
   "execution_count": 61,
   "id": "68ccd10e",
   "metadata": {},
   "outputs": [
    {
     "data": {
      "text/plain": [
       "Text(95.72222222222221, 0.5, 'True Label')"
      ]
     },
     "execution_count": 61,
     "metadata": {},
     "output_type": "execute_result"
    },
    {
     "data": {
      "image/png": "[encoded data removed]",
      "text/plain": [
       "<Figure size 1000x700 with 2 Axes>"
      ]
     },
     "metadata": {},
     "output_type": "display_data"
    }
   ],
   "source": [
    "# creating confusion matrix heatmap\n",
    "\n",
    "conf_mat = confusion_matrix(y_test, svm_Y_pred)\n",
    "fig = plt.figure(figsize=(10,7))\n",
    "group_names = ['True Neg','False Pos','False Neg','True Pos']\n",
    "group_counts = [\"{0:0.0f}\".format(value) for value in\n",
    "                conf_mat.flatten()]\n",
    "labels = [f\"{v1}\\n{v2}\" for v1, v2 in zip(group_names,group_counts)]\n",
    "labels = np.asarray(labels).reshape(2,2)\n",
    "sns.heatmap(conf_mat, annot=labels, annot_kws={\"size\": 16}, fmt='')\n",
    "plt.title(\"Confusion Matrix\")\n",
    "plt.xlabel(\"Predicted Label\")\n",
    "plt.ylabel(\"True Label\")"
   ]
  },
  {
   "cell_type": "markdown",
   "id": "2e6b0238",
   "metadata": {},
   "source": [
    "# Random Forest"
   ]
  },
  {
   "cell_type": "code",
   "execution_count": 69,
   "id": "afa67daf",
   "metadata": {},
   "outputs": [
    {
     "data": {
      "text/plain": [
       "0.8764044943820225"
      ]
     },
     "execution_count": 69,
     "metadata": {},
     "output_type": "execute_result"
    }
   ],
   "source": [
    "\n",
    "from sklearn.ensemble import RandomForestClassifier\n",
    "\n",
    "random_forest = RandomForestClassifier(n_estimators=1000)\n",
    "random_forest.fit(X_train, y_train)\n",
    "random_forest_Y_pred = random_forest.predict(X_test)\n",
    "random_forest.score(X_train, y_train)\n",
    "random_forest_accuracy = random_forest.score(X_test, y_test)\n",
    "random_forest_accuracy"
   ]
  },
  {
   "cell_type": "code",
   "execution_count": 70,
   "id": "5a20481e",
   "metadata": {},
   "outputs": [
    {
     "data": {
      "image/png": "[encoded data removed]",
      "text/plain": [
       "<Figure size 1000x700 with 2 Axes>"
      ]
     },
     "metadata": {},
     "output_type": "display_data"
    }
   ],
   "source": [
    "# creating confusion matrix heatmap\n",
    "\n",
    "conf_mat = confusion_matrix(y_test, random_forest_Y_pred)\n",
    "fig = plt.figure(figsize=(10,7))\n",
    "group_names = ['True Neg','False Pos','False Neg','True Pos']\n",
    "group_counts = [\"{0:0.0f}\".format(value) for value in\n",
    "                conf_mat.flatten()]\n",
    "labels = [f\"{v1}\\n{v2}\" for v1, v2 in zip(group_names,group_counts)]\n",
    "labels = np.asarray(labels).reshape(2,2)\n",
    "sns.heatmap(conf_mat, annot=labels, annot_kws={\"size\": 16}, fmt='')\n",
    "plt.title(\"Confusion Matrix\")\n",
    "plt.xlabel(\"Predicted Label\")\n",
    "plt.ylabel(\"True Label\")\n",
    "plt.show()"
   ]
  },
  {
   "cell_type": "markdown",
   "id": "ee9f3776",
   "metadata": {},
   "source": [
    "\n",
    "# Gaussian Naive Bayes"
   ]
  },
  {
   "cell_type": "code",
   "execution_count": 65,
   "id": "37aca310",
   "metadata": {},
   "outputs": [
    {
     "data": {
      "text/plain": [
       "0.797752808988764"
      ]
     },
     "execution_count": 65,
     "metadata": {},
     "output_type": "execute_result"
    }
   ],
   "source": [
    "\n",
    "from sklearn.naive_bayes import GaussianNB\n",
    "gaussian = GaussianNB()\n",
    "gaussian.fit(X_train, y_train)\n",
    "gaussian_Y_pred = gaussian.predict(X_test)\n",
    "gaussian_accuracy = gaussian.score(X_test, y_test)\n",
    "gaussian_accuracy"
   ]
  },
  {
   "cell_type": "markdown",
   "id": "09c7e9f5",
   "metadata": {},
   "source": [
    "## Logistic Regression"
   ]
  },
  {
   "cell_type": "code",
   "execution_count": 66,
   "id": "a0a546dc",
   "metadata": {},
   "outputs": [
    {
     "data": {
      "text/plain": [
       "0.8089887640449438"
      ]
     },
     "execution_count": 66,
     "metadata": {},
     "output_type": "execute_result"
    }
   ],
   "source": [
    "from sklearn.linear_model import LogisticRegression\n",
    "lg = LogisticRegression()\n",
    "lg.fit(X_train, y_train)\n",
    "lg_Y_pred = lg.predict(X_test)\n",
    "lg_accuracy = lg.score(X_test, y_test)\n",
    "lg_accuracy"
   ]
  }
 ],
 "metadata": {
  "kernelspec": {
   "display_name": "base",
   "language": "python",
   "name": "python3"
  },
  "language_info": {
   "codemirror_mode": {
    "name": "ipython",
    "version": 3
   },
   "file_extension": ".py",
   "mimetype": "text/x-python",
   "name": "python",
   "nbconvert_exporter": "python",
   "pygments_lexer": "ipython3",
   "version": "3.13.5"
  }
 },
 "nbformat": 4,
 "nbformat_minor": 5
}
